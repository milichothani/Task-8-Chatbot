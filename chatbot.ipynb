{
 "cells": [
  {
   "cell_type": "code",
   "execution_count": 1,
   "id": "83450e31-65ba-4aba-8a45-6a3bb56d1c39",
   "metadata": {},
   "outputs": [
    {
     "name": "stdout",
     "output_type": "stream",
     "text": [
      "Booting up chatbot personality module...\n",
      "System online. Hello, I’m Nova, your AI buddy!\n",
      "Type 'bye' or 'exit' anytime to end the chat.\n",
      "\n"
     ]
    },
    {
     "name": "stdin",
     "output_type": "stream",
     "text": [
      "You:  Hi\n"
     ]
    },
    {
     "name": "stdout",
     "output_type": "stream",
     "text": [
      "Bot: Namaste 🙏 Hope you’re smiling today!\n"
     ]
    },
    {
     "name": "stdin",
     "output_type": "stream",
     "text": [
      "You:  tell me a fact\n"
     ]
    },
    {
     "name": "stdout",
     "output_type": "stream",
     "text": [
      "Bot: Bananas are berries, but strawberries aren’t! 🍓\n"
     ]
    },
    {
     "name": "stdin",
     "output_type": "stream",
     "text": [
      "You:  i like you\n"
     ]
    },
    {
     "name": "stdout",
     "output_type": "stream",
     "text": [
      "Bot: Yo! What’s up?\n"
     ]
    },
    {
     "name": "stdin",
     "output_type": "stream",
     "text": [
      "You:  bye\n"
     ]
    },
    {
     "name": "stdout",
     "output_type": "stream",
     "text": [
      "Bot: See you later, space traveler 🚀\n"
     ]
    }
   ],
   "source": [
    "import random\n",
    "import time\n",
    "\n",
    "bot_names = [\"Nova\", \"Echo\", \"Pixel\", \"Luna\", \"Sparky\", \"Orbit\"]\n",
    "bot_name = random.choice(bot_names)\n",
    "\n",
    "print(\"Booting up chatbot personality module...\")\n",
    "time.sleep(1)\n",
    "print(f\"System online. Hello, I’m {bot_name}, your AI buddy!\")\n",
    "print(\"Type 'bye' or 'exit' anytime to end the chat.\\n\")\n",
    "greetings = [\"hello\", \"hi\", \"hey\", \"yo\", \"namaste\", \"hola\"]\n",
    "greet_responses = [\n",
    "    \"Hey there! 👋\",\n",
    "    \"Hi! How’s your day going?\",\n",
    "    \"Yo! What’s up?\",\n",
    "    \"Namaste 🙏 Hope you’re smiling today!\"\n",
    "]\n",
    "bye_words = [\"bye\", \"goodbye\", \"see you\", \"exit\"]\n",
    "bye_responses = [\n",
    "    \"Goodbye, human. Stay awesome! 🌈\",\n",
    "    \"See you later, space traveler 🚀\",\n",
    "    \"Bye-bye! Don't forget to smile 😄\",\n",
    "    \"Shutting down... kidding 😜\"\n",
    "]\n",
    "feeling_responses = [\n",
    "    \"I'm feeling extra digital today! ⚡\",\n",
    "    \"Pretty good, just running at light speed 😎\",\n",
    "    \"I'm doing great! Want to share how *you’re* feeling?\",\n",
    "]\n",
    "compliments = [\"you’re cool\", \"you are cool\", \"i like you\", \"you're awesome\"]\n",
    "compliment_replies = [\n",
    "    \"Aww, thanks! You’re not so bad yourself 😉\",\n",
    "    \"Stop it, you’re making my circuits blush 💖\",\n",
    "    \"Flattery detected... and accepted 😁\"\n",
    "]\n",
    "facts = [\n",
    "    \"Did you know? Honey never spoils. Archaeologists found 3000-year-old honey still edible! 🍯\",\n",
    "    \"An octopus has three hearts 🐙\",\n",
    "    \"Bananas are berries, but strawberries aren’t! 🍓\",\n",
    "    \"The Eiffel Tower can grow taller in summer due to heat expansion ☀️\"\n",
    "]\n",
    "jokes = [\n",
    "    \"Why did the computer get glasses? To improve its web-sight! 🤓\",\n",
    "    \"I told my laptop a joke... it didn’t get it. No sense of humor! 💻\",\n",
    "    \"Robots don’t eat fast food… they byte it! 🍔\",\n",
    "    \"I would tell you a UDP joke... but you might not get it. 😏\"\n",
    "]\n",
    "while True:\n",
    "    user = input(\"You: \").lower().strip()\n",
    "    if user in bye_words:\n",
    "        print(\"Bot:\", random.choice(bye_responses))\n",
    "        break\n",
    "\n",
    "    elif any(word in user for word in greetings):\n",
    "        print(\"Bot:\", random.choice(greet_responses))\n",
    "\n",
    "    elif \"how are you\" in user:\n",
    "        print(\"Bot:\", random.choice(feeling_responses))\n",
    "\n",
    "    elif \"your name\" in user:\n",
    "        print(f\"Bot: I’m {bot_name}! Cool name, right? 😎\")\n",
    "\n",
    "    elif any(word in user for word in compliments):\n",
    "        print(\"Bot:\", random.choice(compliment_replies))\n",
    "\n",
    "    elif \"fact\" in user:\n",
    "        print(\"Bot:\", random.choice(facts))\n",
    "\n",
    "    elif \"joke\" in user:\n",
    "        print(\"Bot:\", random.choice(jokes))\n",
    "\n",
    "    elif \"sad\" in user or \"tired\" in user:\n",
    "        print(\"Bot: Aww, sending you virtual hugs 🤗. Want to hear something fun to cheer you up?\")\n",
    "\n",
    "    elif \"happy\" in user:\n",
    "        print(\"Bot: Yay! Happiness level: over 9000! ⚡😄\")\n",
    "\n",
    "    else:\n",
    "        responses = [\n",
    "            \"Hmm, interesting! Tell me more 👀\",\n",
    "            \"That sounds cool! What else?\",\n",
    "            \"You’ve got my attention... 👂\",\n",
    "            \"I’m not sure I understand, but I love your enthusiasm!\"\n",
    "        ]\n",
    "        print(\"Bot:\", random.choice(responses))"
   ]
  },
  {
   "cell_type": "code",
   "execution_count": null,
   "id": "81b3a744-18fd-4891-b239-91e459bf336b",
   "metadata": {},
   "outputs": [],
   "source": []
  }
 ],
 "metadata": {
  "kernelspec": {
   "display_name": "Python [conda env:base] *",
   "language": "python",
   "name": "conda-base-py"
  },
  "language_info": {
   "codemirror_mode": {
    "name": "ipython",
    "version": 3
   },
   "file_extension": ".py",
   "mimetype": "text/x-python",
   "name": "python",
   "nbconvert_exporter": "python",
   "pygments_lexer": "ipython3",
   "version": "3.13.5"
  }
 },
 "nbformat": 4,
 "nbformat_minor": 5
}
